{
 "cells": [
  {
   "cell_type": "markdown",
   "metadata": {},
   "source": [
    "# Report"
   ]
  },
  {
   "cell_type": "markdown",
   "metadata": {},
   "source": [
    "## Introduction\n",
    "There is lot of crime occurring in many cities. How do police can understand where particular kind of offense is happening? Is there a pattern in kind of offense and its proximity to an venue? This will help them proactively police and take precautionary measures in certain areas.\n"
   ]
  },
  {
   "cell_type": "markdown",
   "metadata": {},
   "source": [
    "## Data\n",
    "The Police Data Initiative is a open data repository and it promotes the use of the data to encourage joint problem solving, innovation, enhanced understanding, and accountability between communities and the law enforcement agencies that serve them. There are many city data available here. I attempt to use Orlando crime data to which provides information on where the crime occurred (longitude and latitude) and offense type. Using this data I can get venue information from four square to understand the crime pattern.\n",
    "\n",
    "Link to the data: https://data.cityoforlando.net/\n",
    "\n",
    "\n"
   ]
  },
  {
   "cell_type": "markdown",
   "metadata": {},
   "source": [
    "## Methodology\n",
    "\n",
    "The data from the site is imported and cleansed. Longitude and Latitude are not available as separate columns. These values are extracted from column location. Obtained various venues around the crime location. Analyzed number of venues around the crime location and analyzed each case by taking the mean of the frequency of occurrence of each venue category. Also for each offense top 5 most common venues are analyzed. Finally cluster analysis is done to understand the crime pattern."
   ]
  },
  {
   "cell_type": "markdown",
   "metadata": {},
   "source": [
    "## Results\n",
    "\n",
    "Crimes occurred in Cluster 1 areas show that crime is happening most often next to ice cream shop followed by Bakery.\n",
    "Cluster 3 also show that Theft most often occurs next to ice cream shop and bakery.Rest of the clusters have fewer observations.\n",
    "\n",
    "\n"
   ]
  },
  {
   "cell_type": "markdown",
   "metadata": {},
   "source": [
    "## Discussion\n",
    "\n",
    "Current data set has limited crime data which maybe biased towards certain crimes (For example Theft). Having additional data would be more useful for analysis. Also having data with non-crime incidents would be useful for additional analysis."
   ]
  },
  {
   "cell_type": "markdown",
   "metadata": {},
   "source": [
    "## Conclusion"
   ]
  },
  {
   "cell_type": "markdown",
   "metadata": {},
   "source": [
    "Orlando crime data was obtined and analyzed to understand the venues that are close to particular crime."
   ]
  },
  {
   "cell_type": "code",
   "execution_count": null,
   "metadata": {},
   "outputs": [],
   "source": []
  }
 ],
 "metadata": {
  "kernelspec": {
   "display_name": "Python 3",
   "language": "python",
   "name": "python3"
  },
  "language_info": {
   "codemirror_mode": {
    "name": "ipython",
    "version": 3
   },
   "file_extension": ".py",
   "mimetype": "text/x-python",
   "name": "python",
   "nbconvert_exporter": "python",
   "pygments_lexer": "ipython3",
   "version": "3.6.8"
  }
 },
 "nbformat": 4,
 "nbformat_minor": 2
}
